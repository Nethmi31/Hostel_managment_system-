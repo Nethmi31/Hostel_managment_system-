{
  "nbformat": 4,
  "nbformat_minor": 0,
  "metadata": {
    "colab": {
      "provenance": [],
      "authorship_tag": "ABX9TyPgRZMRb/AxtVLAXIivaQ9Y",
      "include_colab_link": true
    },
    "kernelspec": {
      "name": "python3",
      "display_name": "Python 3"
    },
    "language_info": {
      "name": "python"
    }
  },
  "cells": [
    {
      "cell_type": "markdown",
      "metadata": {
        "id": "view-in-github",
        "colab_type": "text"
      },
      "source": [
        "<a href=\"https://colab.research.google.com/github/Nethmi31/Hostel_managment_system-/blob/main/Chatbot.ipynb\" target=\"_parent\"><img src=\"https://colab.research.google.com/assets/colab-badge.svg\" alt=\"Open In Colab\"/></a>"
      ]
    },
    {
      "cell_type": "code",
      "execution_count": 1,
      "metadata": {
        "id": "_nGLvzqAuEKY"
      },
      "outputs": [],
      "source": [
        "#Description: This is the smart chatbot program"
      ]
    },
    {
      "cell_type": "code",
      "source": [
        "pip install nltk"
      ],
      "metadata": {
        "colab": {
          "base_uri": "https://localhost:8080/"
        },
        "id": "UKjWK727uVeB",
        "outputId": "d1f3def5-0402-4ddc-d685-bbc3ec13daad"
      },
      "execution_count": 6,
      "outputs": [
        {
          "output_type": "stream",
          "name": "stdout",
          "text": [
            "Requirement already satisfied: nltk in /usr/local/lib/python3.10/dist-packages (3.8.1)\n",
            "Requirement already satisfied: click in /usr/local/lib/python3.10/dist-packages (from nltk) (8.1.7)\n",
            "Requirement already satisfied: joblib in /usr/local/lib/python3.10/dist-packages (from nltk) (1.3.2)\n",
            "Requirement already satisfied: regex>=2021.8.3 in /usr/local/lib/python3.10/dist-packages (from nltk) (2023.12.25)\n",
            "Requirement already satisfied: tqdm in /usr/local/lib/python3.10/dist-packages (from nltk) (4.66.2)\n"
          ]
        }
      ]
    },
    {
      "cell_type": "code",
      "source": [
        "pip install newspaper3k"
      ],
      "metadata": {
        "colab": {
          "base_uri": "https://localhost:8080/"
        },
        "id": "hL-ZkOq7ugxA",
        "outputId": "ce8c5df5-ff25-48be-901d-f3953beb8fc9"
      },
      "execution_count": 8,
      "outputs": [
        {
          "output_type": "stream",
          "name": "stdout",
          "text": [
            "Collecting newspaper3k\n",
            "  Downloading newspaper3k-0.2.8-py3-none-any.whl (211 kB)\n",
            "\u001b[2K     \u001b[90m━━━━━━━━━━━━━━━━━━━━━━━━━━━━━━━━━━━━━━━━\u001b[0m \u001b[32m211.1/211.1 kB\u001b[0m \u001b[31m2.1 MB/s\u001b[0m eta \u001b[36m0:00:00\u001b[0m\n",
            "\u001b[?25hRequirement already satisfied: beautifulsoup4>=4.4.1 in /usr/local/lib/python3.10/dist-packages (from newspaper3k) (4.12.3)\n",
            "Requirement already satisfied: Pillow>=3.3.0 in /usr/local/lib/python3.10/dist-packages (from newspaper3k) (9.4.0)\n",
            "Requirement already satisfied: PyYAML>=3.11 in /usr/local/lib/python3.10/dist-packages (from newspaper3k) (6.0.1)\n",
            "Collecting cssselect>=0.9.2 (from newspaper3k)\n",
            "  Downloading cssselect-1.2.0-py2.py3-none-any.whl (18 kB)\n",
            "Requirement already satisfied: lxml>=3.6.0 in /usr/local/lib/python3.10/dist-packages (from newspaper3k) (4.9.4)\n",
            "Requirement already satisfied: nltk>=3.2.1 in /usr/local/lib/python3.10/dist-packages (from newspaper3k) (3.8.1)\n",
            "Requirement already satisfied: requests>=2.10.0 in /usr/local/lib/python3.10/dist-packages (from newspaper3k) (2.31.0)\n",
            "Collecting feedparser>=5.2.1 (from newspaper3k)\n",
            "  Downloading feedparser-6.0.11-py3-none-any.whl (81 kB)\n",
            "\u001b[2K     \u001b[90m━━━━━━━━━━━━━━━━━━━━━━━━━━━━━━━━━━━━━━━━\u001b[0m \u001b[32m81.3/81.3 kB\u001b[0m \u001b[31m11.1 MB/s\u001b[0m eta \u001b[36m0:00:00\u001b[0m\n",
            "\u001b[?25hCollecting tldextract>=2.0.1 (from newspaper3k)\n",
            "  Downloading tldextract-5.1.2-py3-none-any.whl (97 kB)\n",
            "\u001b[2K     \u001b[90m━━━━━━━━━━━━━━━━━━━━━━━━━━━━━━━━━━━━━━━━\u001b[0m \u001b[32m97.6/97.6 kB\u001b[0m \u001b[31m11.7 MB/s\u001b[0m eta \u001b[36m0:00:00\u001b[0m\n",
            "\u001b[?25hCollecting feedfinder2>=0.0.4 (from newspaper3k)\n",
            "  Downloading feedfinder2-0.0.4.tar.gz (3.3 kB)\n",
            "  Preparing metadata (setup.py) ... \u001b[?25l\u001b[?25hdone\n",
            "Collecting jieba3k>=0.35.1 (from newspaper3k)\n",
            "  Downloading jieba3k-0.35.1.zip (7.4 MB)\n",
            "\u001b[2K     \u001b[90m━━━━━━━━━━━━━━━━━━━━━━━━━━━━━━━━━━━━━━━━\u001b[0m \u001b[32m7.4/7.4 MB\u001b[0m \u001b[31m34.8 MB/s\u001b[0m eta \u001b[36m0:00:00\u001b[0m\n",
            "\u001b[?25h  Preparing metadata (setup.py) ... \u001b[?25l\u001b[?25hdone\n",
            "Requirement already satisfied: python-dateutil>=2.5.3 in /usr/local/lib/python3.10/dist-packages (from newspaper3k) (2.8.2)\n",
            "Collecting tinysegmenter==0.3 (from newspaper3k)\n",
            "  Downloading tinysegmenter-0.3.tar.gz (16 kB)\n",
            "  Preparing metadata (setup.py) ... \u001b[?25l\u001b[?25hdone\n",
            "Requirement already satisfied: soupsieve>1.2 in /usr/local/lib/python3.10/dist-packages (from beautifulsoup4>=4.4.1->newspaper3k) (2.5)\n",
            "Requirement already satisfied: six in /usr/local/lib/python3.10/dist-packages (from feedfinder2>=0.0.4->newspaper3k) (1.16.0)\n",
            "Collecting sgmllib3k (from feedparser>=5.2.1->newspaper3k)\n",
            "  Downloading sgmllib3k-1.0.0.tar.gz (5.8 kB)\n",
            "  Preparing metadata (setup.py) ... \u001b[?25l\u001b[?25hdone\n",
            "Requirement already satisfied: click in /usr/local/lib/python3.10/dist-packages (from nltk>=3.2.1->newspaper3k) (8.1.7)\n",
            "Requirement already satisfied: joblib in /usr/local/lib/python3.10/dist-packages (from nltk>=3.2.1->newspaper3k) (1.3.2)\n",
            "Requirement already satisfied: regex>=2021.8.3 in /usr/local/lib/python3.10/dist-packages (from nltk>=3.2.1->newspaper3k) (2023.12.25)\n",
            "Requirement already satisfied: tqdm in /usr/local/lib/python3.10/dist-packages (from nltk>=3.2.1->newspaper3k) (4.66.2)\n",
            "Requirement already satisfied: charset-normalizer<4,>=2 in /usr/local/lib/python3.10/dist-packages (from requests>=2.10.0->newspaper3k) (3.3.2)\n",
            "Requirement already satisfied: idna<4,>=2.5 in /usr/local/lib/python3.10/dist-packages (from requests>=2.10.0->newspaper3k) (3.6)\n",
            "Requirement already satisfied: urllib3<3,>=1.21.1 in /usr/local/lib/python3.10/dist-packages (from requests>=2.10.0->newspaper3k) (2.0.7)\n",
            "Requirement already satisfied: certifi>=2017.4.17 in /usr/local/lib/python3.10/dist-packages (from requests>=2.10.0->newspaper3k) (2024.2.2)\n",
            "Collecting requests-file>=1.4 (from tldextract>=2.0.1->newspaper3k)\n",
            "  Downloading requests_file-2.0.0-py2.py3-none-any.whl (4.2 kB)\n",
            "Requirement already satisfied: filelock>=3.0.8 in /usr/local/lib/python3.10/dist-packages (from tldextract>=2.0.1->newspaper3k) (3.13.3)\n",
            "Building wheels for collected packages: tinysegmenter, feedfinder2, jieba3k, sgmllib3k\n",
            "  Building wheel for tinysegmenter (setup.py) ... \u001b[?25l\u001b[?25hdone\n",
            "  Created wheel for tinysegmenter: filename=tinysegmenter-0.3-py3-none-any.whl size=13538 sha256=2a1d9e4af629dde5b43e38357c504f44ac3bb993b9c3ea9e3963827a7c9b5e7a\n",
            "  Stored in directory: /root/.cache/pip/wheels/c8/d6/6c/384f58df48c00b9a31d638005143b5b3ac62c3d25fb1447f23\n",
            "  Building wheel for feedfinder2 (setup.py) ... \u001b[?25l\u001b[?25hdone\n",
            "  Created wheel for feedfinder2: filename=feedfinder2-0.0.4-py3-none-any.whl size=3340 sha256=a9fd33aaabf5dffabbfbca242e36dac7d64b99251584276d72eca0c2766abb4f\n",
            "  Stored in directory: /root/.cache/pip/wheels/97/02/e7/a1ff1760e12bdbaab0ac824fae5c1bc933e41c4ccd6a8f8edb\n",
            "  Building wheel for jieba3k (setup.py) ... \u001b[?25l\u001b[?25hdone\n",
            "  Created wheel for jieba3k: filename=jieba3k-0.35.1-py3-none-any.whl size=7398382 sha256=17b60cb90e190e1d3217ad6a33da1353a487cf5126f57690656876764c8100fb\n",
            "  Stored in directory: /root/.cache/pip/wheels/7a/c4/0c/12a9a314ecac499456c4c3b2fcc2f635a3b45a39dfbd240299\n",
            "  Building wheel for sgmllib3k (setup.py) ... \u001b[?25l\u001b[?25hdone\n",
            "  Created wheel for sgmllib3k: filename=sgmllib3k-1.0.0-py3-none-any.whl size=6049 sha256=1b1cceebcf5cc54a19ec14c4d02ae6c024fb856cc572bcfcf14519faa1cac5e2\n",
            "  Stored in directory: /root/.cache/pip/wheels/f0/69/93/a47e9d621be168e9e33c7ce60524393c0b92ae83cf6c6e89c5\n",
            "Successfully built tinysegmenter feedfinder2 jieba3k sgmllib3k\n",
            "Installing collected packages: tinysegmenter, sgmllib3k, jieba3k, feedparser, cssselect, requests-file, feedfinder2, tldextract, newspaper3k\n",
            "Successfully installed cssselect-1.2.0 feedfinder2-0.0.4 feedparser-6.0.11 jieba3k-0.35.1 newspaper3k-0.2.8 requests-file-2.0.0 sgmllib3k-1.0.0 tinysegmenter-0.3 tldextract-5.1.2\n"
          ]
        }
      ]
    },
    {
      "cell_type": "code",
      "source": [
        "#import libraries\n",
        "from newspaper import Article\n",
        "import random\n",
        "import string\n",
        "import nltk\n",
        "from sklearn.feature_extraction.text import CountVectorizer\n",
        "from sklearn.metrics.pairwise import cosine_similarity\n",
        "import numpy as np\n",
        "import warnings\n",
        "warnings.filterwarnings('ignore')"
      ],
      "metadata": {
        "id": "Lz-_Nu3du4-O"
      },
      "execution_count": 9,
      "outputs": []
    },
    {
      "cell_type": "code",
      "source": [
        "\n",
        "#download the punkt package\n",
        "nltk.download('punkt',quiet=True)"
      ],
      "metadata": {
        "colab": {
          "base_uri": "https://localhost:8080/"
        },
        "id": "y4s4Q_hbwGOS",
        "outputId": "ca6de849-5273-40cf-a26f-100423f74505"
      },
      "execution_count": 10,
      "outputs": [
        {
          "output_type": "execute_result",
          "data": {
            "text/plain": [
              "True"
            ]
          },
          "metadata": {},
          "execution_count": 10
        }
      ]
    },
    {
      "cell_type": "code",
      "source": [
        "#Get article\n",
        "article=Article('https://www.geeksforgeeks.org/python-programming-language/')\n",
        "article.download()\n",
        "article.parse()\n",
        "article.nlp()\n",
        "corpus=article.text"
      ],
      "metadata": {
        "id": "Iu7LBz-uwq0x"
      },
      "execution_count": 11,
      "outputs": []
    },
    {
      "cell_type": "code",
      "source": [
        "#print the article text\n",
        "print(corpus)"
      ],
      "metadata": {
        "colab": {
          "base_uri": "https://localhost:8080/"
        },
        "id": "DyZGSwibyeWa",
        "outputId": "b32363c5-92a1-4498-8529-1b12f7b80fec"
      },
      "execution_count": 12,
      "outputs": [
        {
          "output_type": "stream",
          "name": "stdout",
          "text": [
            "This Programming Language Python Tutorial is very well suited for beginners and also for experienced programmers. This specially designed free Python tutorial will help you learn Python programming most efficiently, with all topics from basics to advanced (like Web-scraping, Django, Learning, etc.) with examples.\n",
            "\n",
            "What is Python?\n",
            "\n",
            "Python is a high-level, general-purpose, and very popular programming language. Python programming language (latest Python 3) is being used in web development, and Machine Learning applications, along with all cutting-edge technology in Software Industry. Python language is being used by almost all tech-giant companies like – Google, Amazon, Facebook, Instagram, Dropbox, Uber… etc.\n",
            "\n",
            "Writing your first Python Program to Learn Python Programming\n",
            "\n",
            "There are two ways you can execute your Python program:\n",
            "\n",
            "First, we write a program in a file and run it one time. Second, run a code line by line.\n",
            "\n",
            "Here we provided the latest Python 3 version compiler where you can edit and compile your written code directly with just one click of the RUN Button. So test yourself with Python first exercises.\n",
            "\n",
            "Python3 # Python Program to print Hello World print(\"Hello World! I Don't Give a Bug\")\n",
            "\n",
            "Output Hello World! I Don't Give a Bug\n",
            "\n",
            "Let us now see what will you learn in this Python Tutorial, in detail:\n",
            "\n",
            "The first and foremost step to get started with Python tutorial is to setup Python in your system. Below are the steps based your system requirements:\n",
            "\n",
            "Setting up Python\n",
            "\n",
            "Now let us deep dive into the basics and components to learn Python Programming:\n",
            "\n",
            "Welcome to the Python tutorial section! Here, we’ll cover the essential elements you need to kickstart your journey in Python programming. From syntax and keywords to comments, variables, and indentation, we’ll explore the foundational concepts that underpin Python development.\n",
            "\n",
            "In this segment, we delve into the fundamental aspects of handling input and output operations in Python, crucial for interacting with users and processing data effectively. From mastering the versatile print() function to exploring advanced formatting techniques and efficient methods for receiving user input, this section equips you with the necessary skills to harness Python’s power in handling data streams seamlessly.\n",
            "\n",
            "Python offers, enabling you to manipulate and manage data with precision and flexibility. Additionally, we’ll delve into the dynamic world of data conversion with casting, and then move on to explore the versatile collections Python provides, including lists, tuples, sets, dictionaries, and arrays.\n",
            "\n",
            "By the end of this section, you’ll not only grasp the essence of Python’s data types but also wield them proficiently to tackle a wide array of programming challenges with confidence.\n",
            "\n",
            "From performing basic arithmetic operations to evaluating complex logical expressions, we’ll cover it all. We’ll delve into comparison operators for making decisions based on conditions, and then explore bitwise operators for low-level manipulation of binary data. Additionally, we’ll unravel the intricacies of assignment operators for efficient variable assignment and updating. Lastly, we’ll demystify membership and identity operators, such as in and is, enabling you to test for membership in collections and compare object identities with confidence.\n",
            "\n",
            "These statements are pivotal in programming, enabling dynamic decision-making and code branching. In this section of Python Tutorial, we’ll explore Python’s conditional logic, from basic if…else statements to nested conditions and the concise ternary operator. We’ll also introduce the powerful match case statement, new in Python 3.10. By the end, you’ll master these constructs, empowering you to write clear, efficient code that responds intelligently to various scenarios. Let’s dive in and unlock the potential of Python’s conditional statements.\n",
            "\n",
            "Here, we’ll explore Python’s loop constructs, including the for and while loops, along with essential loop control statements like break, continue, and pass. Additionally, we’ll uncover the concise elegance of list and dictionary comprehensions for efficient data manipulation. By mastering these loop techniques, you’ll streamline your code for improved readability and performance.\n",
            "\n",
            "Functions are the backbone of organized and efficient code in Python. Here, we’ll explore their syntax, parameter handling, return values, and variable scope. From basic concepts to advanced techniques like closures and decorators. Along the way, we’ll also introduce versatile functions like range(), and powerful tools such as *args and **kwargs for flexible parameter handling. Additionally, we’ll delve into functional programming with map, filter, and lambda functions.\n",
            "\n",
            "In this segment, we’ll explore the core principles of object-oriented programming (OOP) in Python. From encapsulation to inheritance, polymorphism, abstract classes, and iterators, we’ll cover the essential concepts that empower you to build modular, reusable, and scalable code.\n",
            "\n",
            "In this section of Python Tutorial, we’ll explore how Python deals with unexpected errors, enabling you to write robust and fault-tolerant code. We’ll cover file handling, including reading from and writing to files, before diving into exception handling with try and except blocks. You’ll also learn about user-defined exceptions and Python’s built-in exception types.\n",
            "\n",
            "The biggest strength of Python is a huge collection of standard libraries which can be used for the following:\n",
            "\n",
            "Here, we’ll explore key data structures provided by Python’s collections module. From counting occurrences with Counters to efficient queue operations with Deque, we’ll cover it all. By mastering these collections, you’ll streamline your data management tasks in Python.\n",
            "\n",
            "Python vs. Other Programming Languages\n",
            "\n",
            "Here’s a comparison of Python with the programming languages C, C++, and Java in a table format:\n",
            "\n",
            "Comparing Python with Other Programming Languages Feature Python C C++ Java Type Interpreted Compiled Compiled Compiled Paradigm Multi-paradigm (object-oriented, procedural, functional) Procedural, structured Multi-paradigm (procedural, object-oriented, generic) Object-oriented, structured Memory Management Automatic Manual Manual Automatic Syntax Simple Complex Complex Complex Popularity High High High High Use Cases Web development, data analysis, machine learning System programming, embedded systems, game development System programming, game development, high-performance applications Large-scale applications, enterprise software Notable Frameworks/Libraries Django, Flask Standard Library Standard Library, Boost Spring, Hibernate Learning Curve Moderate Steep Steep Moderate Community Support Strong Strong Strong Strong Job Market Abundant Abundant Abundant Abundant\n",
            "\n",
            "Let us now begin learning about various important steps required in this Python Tutorial.\n",
            "\n",
            "Learn More about Python with diffent Applications :\n",
            "\n",
            "Python is a versatile and widely-used programming language with a vast ecosystem. Here are some areas where Python is commonly used:\n",
            "\n",
            "Web Development : Python is used to build web applications using frameworks like Django, Flask, and Pyramid. These frameworks provide tools and libraries for handling web requests, managing databases, and more. Data Science and Machine Learning : Python is popular in data science and machine learning due to libraries like NumPy, pandas, Matplotlib, and scikit-learn. These libraries provide tools for data manipulation, analysis, visualization, and machine learning algorithms. Artificial Intelligence and Natural Language Processing : Python is widely used in AI and NLP applications. Libraries like TensorFlow, Keras, PyTorch, and NLTK provide tools for building and training neural networks, processing natural language, and more. Game Development : Python can be used for game development using libraries like Pygame and Panda3D. These libraries provide tools for creating 2D and 3D games, handling graphics, and more. Desktop Applications : Python can be used to build desktop applications using libraries like Tkinter, PyQt, and wxPython. These libraries provide tools for creating graphical user interfaces (GUIs), handling user input, and more. Scripting and Automation : Python is commonly used for scripting and automation tasks due to its simplicity and readability. It can be used to automate repetitive tasks, manage files and directories, and more. Web Scraping and Crawling : Python is widely used for web scraping and crawling using libraries like BeautifulSoup and Scrapy. These libraries provide tools for extracting data from websites, parsing HTML and XML, and more. Education and Research : Python is commonly used in education and research due to its simplicity and readability. Many universities and research institutions use Python for teaching programming and conducting research in various fields. Community and Ecosystem : Python has a large and active community, which contributes to its ecosystem. There are many third-party libraries and frameworks available for various purposes, making Python a versatile language for many applications. Cross-Platform : Python is a cross-platform language, which means that Python code can run on different operating systems without modification. This makes it easy to develop and deploy Python applications on different platforms.\n",
            "\n",
            "Python Online Quiz\n",
            "\n",
            "To achieve a solid understanding of Python, it’s very important to engage with Python quizzes and MCQs. These quizzes can enhance your ability to solve similar questions and improve your problem-solving skills.\n",
            "\n",
            "Here are some quiz articles related to Python Tutorial:\n",
            "\n",
            "Share your thoughts in the comments Add Your Comment\n"
          ]
        }
      ]
    },
    {
      "cell_type": "code",
      "source": [
        "#tokanization\n",
        "text = corpus\n",
        "sentence_list=nltk.sent_tokenize(text) #a list of sentence\n"
      ],
      "metadata": {
        "id": "THTwA1kPjKSE"
      },
      "execution_count": 13,
      "outputs": []
    },
    {
      "cell_type": "code",
      "source": [
        "print(sentence_list)"
      ],
      "metadata": {
        "colab": {
          "base_uri": "https://localhost:8080/"
        },
        "id": "J0uKcxX5kWak",
        "outputId": "92d56072-d88f-4037-98a2-6659fa3dc95f"
      },
      "execution_count": 14,
      "outputs": [
        {
          "output_type": "stream",
          "name": "stdout",
          "text": [
            "['This Programming Language Python Tutorial is very well suited for beginners and also for experienced programmers.', 'This specially designed free Python tutorial will help you learn Python programming most efficiently, with all topics from basics to advanced (like Web-scraping, Django, Learning, etc.)', 'with examples.', 'What is Python?', 'Python is a high-level, general-purpose, and very popular programming language.', 'Python programming language (latest Python 3) is being used in web development, and Machine Learning applications, along with all cutting-edge technology in Software Industry.', 'Python language is being used by almost all tech-giant companies like – Google, Amazon, Facebook, Instagram, Dropbox, Uber… etc.', 'Writing your first Python Program to Learn Python Programming\\n\\nThere are two ways you can execute your Python program:\\n\\nFirst, we write a program in a file and run it one time.', 'Second, run a code line by line.', 'Here we provided the latest Python 3 version compiler where you can edit and compile your written code directly with just one click of the RUN Button.', 'So test yourself with Python first exercises.', 'Python3 # Python Program to print Hello World print(\"Hello World!', 'I Don\\'t Give a Bug\")\\n\\nOutput Hello World!', \"I Don't Give a Bug\\n\\nLet us now see what will you learn in this Python Tutorial, in detail:\\n\\nThe first and foremost step to get started with Python tutorial is to setup Python in your system.\", 'Below are the steps based your system requirements:\\n\\nSetting up Python\\n\\nNow let us deep dive into the basics and components to learn Python Programming:\\n\\nWelcome to the Python tutorial section!', 'Here, we’ll cover the essential elements you need to kickstart your journey in Python programming.', 'From syntax and keywords to comments, variables, and indentation, we’ll explore the foundational concepts that underpin Python development.', 'In this segment, we delve into the fundamental aspects of handling input and output operations in Python, crucial for interacting with users and processing data effectively.', 'From mastering the versatile print() function to exploring advanced formatting techniques and efficient methods for receiving user input, this section equips you with the necessary skills to harness Python’s power in handling data streams seamlessly.', 'Python offers, enabling you to manipulate and manage data with precision and flexibility.', 'Additionally, we’ll delve into the dynamic world of data conversion with casting, and then move on to explore the versatile collections Python provides, including lists, tuples, sets, dictionaries, and arrays.', 'By the end of this section, you’ll not only grasp the essence of Python’s data types but also wield them proficiently to tackle a wide array of programming challenges with confidence.', 'From performing basic arithmetic operations to evaluating complex logical expressions, we’ll cover it all.', 'We’ll delve into comparison operators for making decisions based on conditions, and then explore bitwise operators for low-level manipulation of binary data.', 'Additionally, we’ll unravel the intricacies of assignment operators for efficient variable assignment and updating.', 'Lastly, we’ll demystify membership and identity operators, such as in and is, enabling you to test for membership in collections and compare object identities with confidence.', 'These statements are pivotal in programming, enabling dynamic decision-making and code branching.', 'In this section of Python Tutorial, we’ll explore Python’s conditional logic, from basic if…else statements to nested conditions and the concise ternary operator.', 'We’ll also introduce the powerful match case statement, new in Python 3.10.', 'By the end, you’ll master these constructs, empowering you to write clear, efficient code that responds intelligently to various scenarios.', 'Let’s dive in and unlock the potential of Python’s conditional statements.', 'Here, we’ll explore Python’s loop constructs, including the for and while loops, along with essential loop control statements like break, continue, and pass.', 'Additionally, we’ll uncover the concise elegance of list and dictionary comprehensions for efficient data manipulation.', 'By mastering these loop techniques, you’ll streamline your code for improved readability and performance.', 'Functions are the backbone of organized and efficient code in Python.', 'Here, we’ll explore their syntax, parameter handling, return values, and variable scope.', 'From basic concepts to advanced techniques like closures and decorators.', 'Along the way, we’ll also introduce versatile functions like range(), and powerful tools such as *args and **kwargs for flexible parameter handling.', 'Additionally, we’ll delve into functional programming with map, filter, and lambda functions.', 'In this segment, we’ll explore the core principles of object-oriented programming (OOP) in Python.', 'From encapsulation to inheritance, polymorphism, abstract classes, and iterators, we’ll cover the essential concepts that empower you to build modular, reusable, and scalable code.', 'In this section of Python Tutorial, we’ll explore how Python deals with unexpected errors, enabling you to write robust and fault-tolerant code.', 'We’ll cover file handling, including reading from and writing to files, before diving into exception handling with try and except blocks.', 'You’ll also learn about user-defined exceptions and Python’s built-in exception types.', 'The biggest strength of Python is a huge collection of standard libraries which can be used for the following:\\n\\nHere, we’ll explore key data structures provided by Python’s collections module.', 'From counting occurrences with Counters to efficient queue operations with Deque, we’ll cover it all.', 'By mastering these collections, you’ll streamline your data management tasks in Python.', 'Python vs. Other Programming Languages\\n\\nHere’s a comparison of Python with the programming languages C, C++, and Java in a table format:\\n\\nComparing Python with Other Programming Languages Feature Python C C++ Java Type Interpreted Compiled Compiled Compiled Paradigm Multi-paradigm (object-oriented, procedural, functional) Procedural, structured Multi-paradigm (procedural, object-oriented, generic) Object-oriented, structured Memory Management Automatic Manual Manual Automatic Syntax Simple Complex Complex Complex Popularity High High High High Use Cases Web development, data analysis, machine learning System programming, embedded systems, game development System programming, game development, high-performance applications Large-scale applications, enterprise software Notable Frameworks/Libraries Django, Flask Standard Library Standard Library, Boost Spring, Hibernate Learning Curve Moderate Steep Steep Moderate Community Support Strong Strong Strong Strong Job Market Abundant Abundant Abundant Abundant\\n\\nLet us now begin learning about various important steps required in this Python Tutorial.', 'Learn More about Python with diffent Applications :\\n\\nPython is a versatile and widely-used programming language with a vast ecosystem.', 'Here are some areas where Python is commonly used:\\n\\nWeb Development : Python is used to build web applications using frameworks like Django, Flask, and Pyramid.', 'These frameworks provide tools and libraries for handling web requests, managing databases, and more.', 'Data Science and Machine Learning : Python is popular in data science and machine learning due to libraries like NumPy, pandas, Matplotlib, and scikit-learn.', 'These libraries provide tools for data manipulation, analysis, visualization, and machine learning algorithms.', 'Artificial Intelligence and Natural Language Processing : Python is widely used in AI and NLP applications.', 'Libraries like TensorFlow, Keras, PyTorch, and NLTK provide tools for building and training neural networks, processing natural language, and more.', 'Game Development : Python can be used for game development using libraries like Pygame and Panda3D.', 'These libraries provide tools for creating 2D and 3D games, handling graphics, and more.', 'Desktop Applications : Python can be used to build desktop applications using libraries like Tkinter, PyQt, and wxPython.', 'These libraries provide tools for creating graphical user interfaces (GUIs), handling user input, and more.', 'Scripting and Automation : Python is commonly used for scripting and automation tasks due to its simplicity and readability.', 'It can be used to automate repetitive tasks, manage files and directories, and more.', 'Web Scraping and Crawling : Python is widely used for web scraping and crawling using libraries like BeautifulSoup and Scrapy.', 'These libraries provide tools for extracting data from websites, parsing HTML and XML, and more.', 'Education and Research : Python is commonly used in education and research due to its simplicity and readability.', 'Many universities and research institutions use Python for teaching programming and conducting research in various fields.', 'Community and Ecosystem : Python has a large and active community, which contributes to its ecosystem.', 'There are many third-party libraries and frameworks available for various purposes, making Python a versatile language for many applications.', 'Cross-Platform : Python is a cross-platform language, which means that Python code can run on different operating systems without modification.', 'This makes it easy to develop and deploy Python applications on different platforms.', 'Python Online Quiz\\n\\nTo achieve a solid understanding of Python, it’s very important to engage with Python quizzes and MCQs.', 'These quizzes can enhance your ability to solve similar questions and improve your problem-solving skills.', 'Here are some quiz articles related to Python Tutorial:\\n\\nShare your thoughts in the comments Add Your Comment']\n"
          ]
        }
      ]
    },
    {
      "cell_type": "code",
      "source": [
        "def greeting_response(text):\n",
        "  text = text.lower()\n",
        "  import random\n",
        "\n",
        "  #bot greeting response\n",
        "  bot_greetings = ['howly','hi','hey','hello','hola']\n",
        "  #User greetings\n",
        "  user_greetings = ['hi','hey','hello','hola','greeting','wassup']\n",
        "\n",
        "  for word in text.split():\n",
        "    if word in user_greetings:\n",
        "      return random.choice(bot_greetings)"
      ],
      "metadata": {
        "id": "S_472qXvkenf"
      },
      "execution_count": 15,
      "outputs": []
    },
    {
      "cell_type": "code",
      "source": [
        "def bot_response(user_input):\n",
        "  user_input = user_input.lower()\n",
        "  sentence_list.append(user_input)\n",
        "  bot_response = cn=CountVectorizer().fit_transform(sentence_list)\n",
        "  similarity_scores = cosine_similarity(cn[-1],cn)\n",
        "  similarity_scores_list = similarity_scores.flatten()\n",
        "  index = index_sort(similarity_scores_list)\n",
        "  index = index[1:]\n",
        "  response_flag = 0\n",
        "\n",
        "  j=0\n",
        "  for i in range(len(index)):\n",
        "    if similarity_scores_list[index[i]]>0.0:\n",
        "      bot_response = bot_response+''+sentence_list[index[i]]\n",
        "      response_flag=1\n",
        "      j=j+1\n",
        "    if j>2:\n",
        "      break\n",
        "\n",
        "  if response_flag == 0:\n",
        "    bot_response = bot_response+''+'I apologize I dont understand'\n",
        "\n",
        "  sentence_list.remove(user_input)\n",
        "\n",
        "  return bot_response\n"
      ],
      "metadata": {
        "id": "ExGSlDgCmJNQ"
      },
      "execution_count": 23,
      "outputs": []
    },
    {
      "cell_type": "code",
      "source": [
        "print('Doc Bot: I am chat bot for short.I will answer your queries about python.if you want to exit,type bye')\n",
        "\n",
        "exit_list = ['exit','see you later','bye','quit','break','thank you']\n",
        "while(True):\n",
        "  user_input = input()\n",
        "  if user_input.lower() in exit_list:\n",
        "    print('chat bot nethmi: chat with you later! ')\n",
        "    break\n",
        "  else:\n",
        "    if greeting_response(user_input) != None:\n",
        "      print('chat bot nethmi: '+greeting_response(user_input))\n",
        "    else :\n",
        "      print('chat bot nethmi: '+bot_response(user_input))"
      ],
      "metadata": {
        "colab": {
          "base_uri": "https://localhost:8080/"
        },
        "id": "NSEQjM43twDx",
        "outputId": "b775bed6-926f-4e99-9071-3ffc21fc8a31"
      },
      "execution_count": 25,
      "outputs": [
        {
          "output_type": "stream",
          "name": "stdout",
          "text": [
            "Doc Bot: I am chat bot for short.I will answer your queries about python.if you want to exit,type bye\n",
            "hi\n",
            "chat bot nethmi: hey\n",
            "bye\n",
            "chat bot nethmi: chat with you later! \n"
          ]
        }
      ]
    }
  ]
}